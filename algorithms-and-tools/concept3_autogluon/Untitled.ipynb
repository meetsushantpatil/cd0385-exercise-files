{
 "cells": [
  {
   "cell_type": "code",
   "execution_count": null,
   "id": "78201dfe-04d5-4e46-85f3-117b230537f3",
   "metadata": {},
   "outputs": [],
   "source": []
  }
 ],
 "metadata": {
  "instance_type": "ml.t3.medium",
  "kernelspec": {
   "display_name": "",
   "name": ""
  },
  "language_info": {
   "name": ""
  }
 },
 "nbformat": 4,
 "nbformat_minor": 5
}
